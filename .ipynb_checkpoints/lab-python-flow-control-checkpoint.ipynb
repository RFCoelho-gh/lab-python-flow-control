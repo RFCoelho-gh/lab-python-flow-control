{
 "cells": [
  {
   "cell_type": "markdown",
   "id": "d3bfc191-8885-42ee-b0a0-bbab867c6f9f",
   "metadata": {
    "tags": []
   },
   "source": [
    "# Lab | Flow Control"
   ]
  },
  {
   "cell_type": "markdown",
   "id": "3851fcd1-cf98-4653-9c89-e003b7ec9400",
   "metadata": {},
   "source": [
    "## Exercise: Managing Customer Orders Optimized\n",
    "\n",
    "In the last lab, you were starting an online store that sells various products. To ensure smooth operations, you developed a program that manages customer orders and inventory.\n",
    "\n",
    "You did so without using flow control. Let's go a step further and improve this code.\n",
    "\n",
    "Follow the steps below to complete the exercise:\n",
    "\n",
    "1. Look at your code from the lab data structures, and improve repeated code with loops.\n",
    "\n",
    "2. Instead of asking the user to input the name of three products that a customer wants to order, do the following:\n",
    "    \n",
    "    a. Prompt the user to enter the name of a product that a customer wants to order.\n",
    "    \n",
    "    b. Add the product name to the \"customer_orders\" set.\n",
    "    \n",
    "    c. Ask the user if they want to add another product (yes/no).\n",
    "    \n",
    "    d. Continue the loop until the user does not want to add another product.\n",
    "\n",
    "3. Instead of updating the inventory by subtracting 1 from the quantity of each product, only do it for  the products that were ordered (those in \"customer_orders\")."
   ]
  },
  {
   "cell_type": "code",
   "execution_count": 32,
   "id": "2d6359aa-2806-432a-a3b3-67415c2372a5",
   "metadata": {},
   "outputs": [
    {
     "name": "stdout",
     "output_type": "stream",
     "text": [
      "True\n"
     ]
    },
    {
     "data": {
      "text/plain": [
       "0"
      ]
     },
     "execution_count": 32,
     "metadata": {},
     "output_type": "execute_result"
    }
   ],
   "source": [
    "products = [\"t-shirt\", \"mug\", \"hat\", \"book\", \"keychain\"]\n",
    "\n",
    "print(\"mug\" in products)\n",
    "\n",
    "customer_orders = set()\n",
    "\n",
    "len(customer_orders)"
   ]
  },
  {
   "cell_type": "code",
   "execution_count": 33,
   "id": "bf682ca4-4941-48ba-8f40-f2c12762473f",
   "metadata": {},
   "outputs": [
    {
     "name": "stdout",
     "output_type": "stream",
     "text": [
      "Please enter the quantity of each product available in the inventory: t-shirt\n"
     ]
    },
    {
     "name": "stdin",
     "output_type": "stream",
     "text": [
      "Quantity of item of name: t-shirt 1\n"
     ]
    },
    {
     "name": "stdout",
     "output_type": "stream",
     "text": [
      "Please enter the quantity of each product available in the inventory: mug\n"
     ]
    },
    {
     "name": "stdin",
     "output_type": "stream",
     "text": [
      "Quantity of item of name: mug 2\n"
     ]
    },
    {
     "name": "stdout",
     "output_type": "stream",
     "text": [
      "Please enter the quantity of each product available in the inventory: hat\n"
     ]
    },
    {
     "name": "stdin",
     "output_type": "stream",
     "text": [
      "Quantity of item of name: hat 3\n"
     ]
    },
    {
     "name": "stdout",
     "output_type": "stream",
     "text": [
      "Please enter the quantity of each product available in the inventory: book\n"
     ]
    },
    {
     "name": "stdin",
     "output_type": "stream",
     "text": [
      "Quantity of item of name: book 4\n"
     ]
    },
    {
     "name": "stdout",
     "output_type": "stream",
     "text": [
      "Please enter the quantity of each product available in the inventory: keychain\n"
     ]
    },
    {
     "name": "stdin",
     "output_type": "stream",
     "text": [
      "Quantity of item of name: keychain 5\n"
     ]
    },
    {
     "name": "stdout",
     "output_type": "stream",
     "text": [
      "{'t-shirt': 1, 'mug': 2, 'hat': 3, 'book': 4, 'keychain': 5}\n"
     ]
    }
   ],
   "source": [
    "inventory = {}\n",
    "\n",
    "tempInput = 0\n",
    "tempProduct = 0\n",
    "\n",
    "for p in products:\n",
    "    print(\"Please enter the quantity of each product available in the inventory: \"+products[products.index(p)])\n",
    "    givenInput = int(input(\"Quantity of item of name: \"+p))\n",
    "    tempProduct = products[products.index(p)]\n",
    "    inventory[tempProduct] = givenInput\n",
    "    #inventory[products[p]] = givenInput\n",
    "\n",
    "print(inventory)"
   ]
  },
  {
   "cell_type": "code",
   "execution_count": 38,
   "id": "727030d3-4f23-49f8-8af2-779a0d92c68a",
   "metadata": {},
   "outputs": [
    {
     "name": "stdin",
     "output_type": "stream",
     "text": [
      "Please enter the name of a product that you want to add.) kEyChAiN\n",
      "Do you want to continue shopping? nO\n"
     ]
    },
    {
     "name": "stdout",
     "output_type": "stream",
     "text": [
      "{'keychain', 'hat', 'mug'}\n"
     ]
    }
   ],
   "source": [
    "products = [\"t-shirt\", \"mug\", \"hat\", \"book\", \"keychain\"]\n",
    "\n",
    "orderFinishedFlag = 0\n",
    "userConfirmation = \"\"\n",
    "tempProduct = \"\"\n",
    "\n",
    "while orderFinishedFlag == 0:\n",
    "    tempProduct = input(\"Please enter the name of a product that you want to add.)\").lower()\n",
    "    if tempProduct in products:\n",
    "        customer_orders.add(tempProduct)\n",
    "        userConfirmation = input(\"Do you want to continue shopping?\")\n",
    "        #print(userConfirmation)\n",
    "        #print(type(userConfirmation))\n",
    "        if userConfirmation.lower() == \"no\":\n",
    "            orderFinishedFlag = 1\n",
    "    else:\n",
    "        print(\"This product is not in our assortment. Please select a different product.\")\n",
    "    if len(customer_orders) >= len(products):\n",
    "        orderFinishedFlag = 1\n",
    "\n",
    "print(customer_orders)"
   ]
  },
  {
   "cell_type": "code",
   "execution_count": 35,
   "id": "8a171ce7-5a03-4175-a1cf-60cad575f7e9",
   "metadata": {},
   "outputs": [
    {
     "name": "stdout",
     "output_type": "stream",
     "text": [
      "hat\n",
      "mug\n",
      "{'t-shirt': 1, 'mug': 1, 'hat': 2, 'book': 4, 'keychain': 5}\n"
     ]
    }
   ],
   "source": [
    "for c in customer_orders:\n",
    "    print(c)\n",
    "    inventory[c] -= 1\n",
    "\n",
    "print(inventory)"
   ]
  },
  {
   "cell_type": "code",
   "execution_count": null,
   "id": "73b3bb1f-bd58-4117-8ada-49650477b529",
   "metadata": {},
   "outputs": [],
   "source": [
    "#### Previous Lab\n",
    "\n",
    "products = [\"t-shirt\", \"mug\", \"hat\", \"book\", \"keychain\"]\n",
    "\n",
    "inventory = {}\n",
    "\n",
    "tempInput = 0\n",
    "tempProduct = 0\n",
    "\n",
    "for p in products:\n",
    "    print(\"Please enter the quantity of each product available in the inventory: \"+products[products.index(p)])\n",
    "    givenInput = int(input(\"Quantity of item of name: \"+p))\n",
    "    tempProduct = products[products.index(p)]\n",
    "    inventory[tempProduct] = givenInput\n",
    "    #inventory[products[p]] = givenInput\n",
    "\n",
    "print(inventory)\n",
    "\n",
    "## Exercise 4,5\n",
    "\n",
    "customer_orders = set()\n",
    "\n",
    "print(products)\n",
    "\n",
    "# contacts['Mel'] = '480-111-2222'\n",
    "\n",
    "# index() returns the index at which that element is\n",
    "# index = my_list.index(2)\n",
    "# print(index)  # Output: 1\n",
    "\n",
    "availableProducts = ', '.join(products)\n",
    "#print(availableProducts)\n",
    "\n",
    "# Exercise 6\n",
    "\n",
    "myPurchase = input(\"Please input which items you would like to add to your order, separated by (,): \"+availableProducts)\n",
    "\n",
    "myPurchaseList = myPurchase.split(\",\")\n",
    "\n",
    "print(myPurchaseList)\n",
    "\n",
    "for m in myPurchaseList:\n",
    "    customer_orders.add(m)\n",
    "\n",
    "print(customer_orders)\n",
    "\n",
    "#for m in myPurchaseList:\n",
    "    #customer_orders.add(myPurchaseList[m])\n",
    "\n",
    "#print(myPurchase.split())\n",
    "#print(type(myPurchase))\n",
    "\n",
    "#print(customer_orders)\n",
    "\n",
    "## Exercise 7.1 + 7.2 + 8\n",
    "\n",
    "totalProductsOrdered = len(myPurchaseList)\n",
    "currentStock = sum(inventory.values())\n",
    "percentageProductsOrdered = totalProductsOrdered/currentStock\n",
    "print(\"Order Statistics:\")\n",
    "print(\"Total Products Ordered: \"+str(totalProductsOrdered))\n",
    "print(\"Percentage of Products Ordered: \"+str(percentageProductsOrdered)+\"%\")\n",
    "\n",
    "availableProducts = ', '.join(products)\n",
    "#print(availableProducts)\n",
    "\n",
    "# Exercise 6\n",
    "\n",
    "myPurchase = input(\"Please input which items you would like to add to your order, separated by (,): \"+availableProducts)\n",
    "\n",
    "myPurchaseList = myPurchase.split(\",\")\n",
    "\n",
    "print(myPurchaseList)\n",
    "\n",
    "for m in myPurchaseList:\n",
    "    customer_orders.add(m)\n",
    "\n",
    "print(customer_orders)\n",
    "\n",
    "#for m in myPurchaseList:\n",
    "    #customer_orders.add(myPurchaseList[m])\n",
    "\n",
    "#print(myPurchase.split())\n",
    "#print(type(myPurchase))\n",
    "\n",
    "#print(customer_orders)\n",
    "\n",
    "## Exercise 7.1 + 7.2 + 8\n",
    "\n",
    "totalProductsOrdered = len(myPurchaseList)\n",
    "currentStock = sum(inventory.values())\n",
    "percentageProductsOrdered = totalProductsOrdered/currentStock\n",
    "print(\"Order Statistics:\")\n",
    "print(\"Total Products Ordered: \"+str(totalProductsOrdered))\n",
    "print(\"Percentage of Products Ordered: \"+str(percentageProductsOrdered)+\"%\")\n",
    "\n",
    "## Exercise 10\n",
    "\n",
    "tempSelector = \"\"\n",
    "\n",
    "for j in myPurchaseList:\n",
    "    tempSelector = j\n",
    "    print(tempSelector)\n",
    "    inventory[tempSelector] -= 1\n",
    "\n",
    "print(inventory)\n",
    "\n",
    "## Exercise 7.3\n",
    "\n",
    "order_status = (totalProductsOrdered, percentageProductsOrdered)\n",
    "\n",
    "#### Previous Lab"
   ]
  },
  {
   "cell_type": "code",
   "execution_count": null,
   "id": "d5df29b4-19cf-4007-8fe4-0d3777ea81a8",
   "metadata": {},
   "outputs": [],
   "source": []
  },
  {
   "cell_type": "code",
   "execution_count": 22,
   "id": "a5c8c296-a868-48de-95d8-1fed91bc8d4a",
   "metadata": {},
   "outputs": [
    {
     "name": "stdin",
     "output_type": "stream",
     "text": [
      "Please enter the name of a product that you want to add. book\n",
      "Do you want to continue shopping? No\n"
     ]
    }
   ],
   "source": [
    "products = [\"t-shirt\", \"mug\", \"hat\", \"book\", \"keychain\"]\n",
    "\n",
    "orderFinishedFlag = 0\n",
    "userConfirmation = \"\"\n",
    "\n",
    "\n",
    "while orderFinishedFlag == 0:\n",
    "    tempProduct = input(\"Please enter the name of a product that you want to add.\")\n",
    "    if tempProduct in products:\n",
    "        customer_orders.add(tempProduct)\n",
    "        userConfirmation = input(\"Do you want to continue shopping?\")\n",
    "        #print(userConfirmation)\n",
    "        #print(type(userConfirmation))\n",
    "        if userConfirmation == \"No\":\n",
    "            orderFinishedFlag = 1\n",
    "            \n",
    "    else:\n",
    "        print(\"This product is not in our assortment. Please select a different product.\")\n",
    "    if len(customer_orders) >= len(products):\n",
    "        orderFinishedFlag == 1"
   ]
  },
  {
   "cell_type": "code",
   "execution_count": 23,
   "id": "721f43da-292e-438b-91fa-b8696a8bbfbb",
   "metadata": {},
   "outputs": [
    {
     "data": {
      "text/plain": [
       "{'book', 'hat', 'keychain', 'mug'}"
      ]
     },
     "execution_count": 23,
     "metadata": {},
     "output_type": "execute_result"
    }
   ],
   "source": [
    "customer_orders"
   ]
  },
  {
   "cell_type": "code",
   "execution_count": null,
   "id": "b259ef30-ac41-49c7-bd63-5513ea614470",
   "metadata": {},
   "outputs": [],
   "source": []
  }
 ],
 "metadata": {
  "kernelspec": {
   "display_name": "Python 3 (ipykernel)",
   "language": "python",
   "name": "python3"
  },
  "language_info": {
   "codemirror_mode": {
    "name": "ipython",
    "version": 3
   },
   "file_extension": ".py",
   "mimetype": "text/x-python",
   "name": "python",
   "nbconvert_exporter": "python",
   "pygments_lexer": "ipython3",
   "version": "3.12.4"
  }
 },
 "nbformat": 4,
 "nbformat_minor": 5
}
